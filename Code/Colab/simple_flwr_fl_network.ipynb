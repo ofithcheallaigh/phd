{
  "nbformat": 4,
  "nbformat_minor": 0,
  "metadata": {
    "colab": {
      "provenance": [],
      "gpuType": "L4",
      "machine_shape": "hm"
    },
    "kernelspec": {
      "name": "python3",
      "display_name": "Python 3"
    },
    "language_info": {
      "name": "python"
    },
    "accelerator": "GPU"
  },
  "cells": [
    {
      "cell_type": "markdown",
      "source": [
        "Code block below is used to list the hardware used."
      ],
      "metadata": {
        "id": "c5bPUYCU4Qs1"
      }
    },
    {
      "cell_type": "code",
      "source": [
        "gpu_info = !nvidia-smi\n",
        "gpu_info = '\\n'.join(gpu_info)\n",
        "if gpu_info.find('failed') >= 0:\n",
        "  print('Not connected to a GPU')\n",
        "else:\n",
        "  print(gpu_info)\n",
        "\n",
        "  # /bin/bash: line 1: nvidia-smi: command not found <-- this return indicates a GPU is not connected."
      ],
      "metadata": {
        "colab": {
          "base_uri": "https://localhost:8080/"
        },
        "id": "RCgI0HXN3N6n",
        "outputId": "b64fecdf-e7d5-42ef-f315-925648307b79"
      },
      "execution_count": 25,
      "outputs": [
        {
          "output_type": "stream",
          "name": "stdout",
          "text": [
            "Sun Jun 16 09:36:41 2024       \n",
            "+---------------------------------------------------------------------------------------+\n",
            "| NVIDIA-SMI 535.104.05             Driver Version: 535.104.05   CUDA Version: 12.2     |\n",
            "|-----------------------------------------+----------------------+----------------------+\n",
            "| GPU  Name                 Persistence-M | Bus-Id        Disp.A | Volatile Uncorr. ECC |\n",
            "| Fan  Temp   Perf          Pwr:Usage/Cap |         Memory-Usage | GPU-Util  Compute M. |\n",
            "|                                         |                      |               MIG M. |\n",
            "|=========================================+======================+======================|\n",
            "|   0  NVIDIA L4                      Off | 00000000:00:03.0 Off |                    0 |\n",
            "| N/A   52C    P8              17W /  72W |      4MiB / 23034MiB |      0%      Default |\n",
            "|                                         |                      |                  N/A |\n",
            "+-----------------------------------------+----------------------+----------------------+\n",
            "                                                                                         \n",
            "+---------------------------------------------------------------------------------------+\n",
            "| Processes:                                                                            |\n",
            "|  GPU   GI   CI        PID   Type   Process name                            GPU Memory |\n",
            "|        ID   ID                                                             Usage      |\n",
            "|=======================================================================================|\n",
            "|  No running processes found                                                           |\n",
            "+---------------------------------------------------------------------------------------+\n"
          ]
        }
      ]
    },
    {
      "cell_type": "markdown",
      "source": [
        "The code below checks the available memory:"
      ],
      "metadata": {
        "id": "FSbDVLNI6Ehq"
      }
    },
    {
      "cell_type": "code",
      "source": [
        "from psutil import virtual_memory\n",
        "ram_gb = virtual_memory().total / 1e9\n",
        "print('Your runtime has {:.1f} gigabytes of available RAM\\n'.format(ram_gb))\n",
        "\n",
        "if ram_gb < 20:\n",
        "  print('Not using a high-RAM runtime')\n",
        "else:\n",
        "  print('You are using a high-RAM runtime!')"
      ],
      "metadata": {
        "colab": {
          "base_uri": "https://localhost:8080/"
        },
        "id": "OzAz2nqT6KQA",
        "outputId": "4d4ac934-762b-4dd2-9dae-7dd8800c5ffb"
      },
      "execution_count": 26,
      "outputs": [
        {
          "output_type": "stream",
          "name": "stdout",
          "text": [
            "Your runtime has 56.9 gigabytes of available RAM\n",
            "\n",
            "You are using a high-RAM runtime!\n"
          ]
        }
      ]
    },
    {
      "cell_type": "code",
      "execution_count": 27,
      "metadata": {
        "id": "V5qed2qwf1Zm"
      },
      "outputs": [],
      "source": [
        "# depending on your shell, you might need to add `\\` before `[` and `]`.\n",
        "!pip install -q flwr[simulation]"
      ]
    },
    {
      "cell_type": "markdown",
      "source": [
        "Now we will get the dataset.\n",
        "\n",
        "This will require `torch` and `torchvision`."
      ],
      "metadata": {
        "id": "QeSuWXb-hxRg"
      }
    },
    {
      "cell_type": "markdown",
      "source": [
        "Below is the `imports` section"
      ],
      "metadata": {
        "id": "Nsa-bVBl73vU"
      }
    },
    {
      "cell_type": "code",
      "source": [
        "import torch\n",
        "from torch.utils.data import DataLoader, random_split\n",
        "from torchvision.transforms import ToTensor, Normalize, Compose\n",
        "from torchvision.datasets import MNIST\n",
        "import matplotlib.pyplot as plt\n",
        "import random\n",
        "import numpy as np\n",
        "import torch.nn as nn\n",
        "import torch.nn.functional as F\n",
        "\n",
        "import flwr as fl\n",
        "from collections import OrderedDict\n",
        "from typing import Dict, Tuple\n",
        "from flwr.common import NDArrays, Scalar"
      ],
      "metadata": {
        "id": "wcMqKDUn78L6"
      },
      "execution_count": 28,
      "outputs": []
    },
    {
      "cell_type": "code",
      "source": [
        "def get_mnist_dataset(data_path: str = \"./data\"):\n",
        "  # This function will get the MNIST dataset, downloading it into the `data_path`\n",
        "  # directory, if not is not in there already.\n",
        "  # We will construct the train-test-split by converting images into tensors\n",
        "  # and normalising them\n",
        "\n",
        "  # Transformation to convert images to tensors and applying normalisation\n",
        "  tr = Compose([ToTensor(), Normalize((0.1307),(0.3081))]) # --> mean and standard deviation figures\n",
        "\n",
        "  # Prepare train and test data sets\n",
        "  train_dataset = MNIST(data_path, train=True, download=True, transform=tr)\n",
        "  test_dataset = MNIST(data_path, train=False, download=True, transform=tr)\n",
        "\n",
        "  return train_dataset, test_dataset"
      ],
      "metadata": {
        "id": "22ypLzLAhttS"
      },
      "execution_count": 29,
      "outputs": []
    },
    {
      "cell_type": "markdown",
      "source": [
        "We will run this code to check for issues, and then to explore the data."
      ],
      "metadata": {
        "id": "H38fm8tpmNv-"
      }
    },
    {
      "cell_type": "code",
      "source": [
        "train_dataset, test_dataset = get_mnist_dataset()"
      ],
      "metadata": {
        "id": "RVMD4f2pmY9x"
      },
      "execution_count": 30,
      "outputs": []
    },
    {
      "cell_type": "markdown",
      "source": [
        "We can have an overview of the datasets by typing the object name on the command line:"
      ],
      "metadata": {
        "id": "HauL5Va_qcNx"
      }
    },
    {
      "cell_type": "code",
      "source": [
        "train_dataset"
      ],
      "metadata": {
        "colab": {
          "base_uri": "https://localhost:8080/"
        },
        "id": "9dxmYLztqamm",
        "outputId": "6f17a1bf-84d6-43d6-d6fc-e57252ce2904"
      },
      "execution_count": 31,
      "outputs": [
        {
          "output_type": "execute_result",
          "data": {
            "text/plain": [
              "Dataset MNIST\n",
              "    Number of datapoints: 60000\n",
              "    Root location: ./data\n",
              "    Split: Train\n",
              "    StandardTransform\n",
              "Transform: Compose(\n",
              "               ToTensor()\n",
              "               Normalize(mean=0.1307, std=0.3081)\n",
              "           )"
            ]
          },
          "metadata": {},
          "execution_count": 31
        }
      ]
    },
    {
      "cell_type": "code",
      "source": [
        "test_dataset"
      ],
      "metadata": {
        "colab": {
          "base_uri": "https://localhost:8080/"
        },
        "id": "uw-cXgx2qo4V",
        "outputId": "26124339-7924-4204-cf73-7d3d862e2e33"
      },
      "execution_count": 32,
      "outputs": [
        {
          "output_type": "execute_result",
          "data": {
            "text/plain": [
              "Dataset MNIST\n",
              "    Number of datapoints: 10000\n",
              "    Root location: ./data\n",
              "    Split: Test\n",
              "    StandardTransform\n",
              "Transform: Compose(\n",
              "               ToTensor()\n",
              "               Normalize(mean=0.1307, std=0.3081)\n",
              "           )"
            ]
          },
          "metadata": {},
          "execution_count": 32
        }
      ]
    },
    {
      "cell_type": "markdown",
      "source": [
        "We can also look at the distribution of the data, by constructing a histogram:"
      ],
      "metadata": {
        "id": "hz1NPRx-q0mp"
      }
    },
    {
      "cell_type": "code",
      "source": [
        "# Construct the histograms:\n",
        "all_labels = train_dataset.targets\n",
        "# len(all_labels)\n",
        "\n",
        "# set creates a colelction of unique elements, since numpy arrays can contain duplicates\n",
        "num_possible_labels = len(set(all_labels.numpy().tolist())) # counts unique labels, is 10\n",
        "\n",
        "plt.hist(all_labels, bins=num_possible_labels)\n",
        "\n",
        "# Plot formatting\n",
        "plt.xticks(range(num_possible_labels))\n",
        "plt.grid()\n",
        "plt.xlabel(\"Label\")\n",
        "plt.ylabel(\"Number of Images per Digit\")\n",
        "plt.title(\"Class Label Distribution for the MNIST Dataset\")"
      ],
      "metadata": {
        "colab": {
          "base_uri": "https://localhost:8080/",
          "height": 490
        },
        "id": "HBLhGo_2rH3d",
        "outputId": "17999540-7513-48e8-c6e4-ce7b6e892409"
      },
      "execution_count": 33,
      "outputs": [
        {
          "output_type": "execute_result",
          "data": {
            "text/plain": [
              "Text(0.5, 1.0, 'Class Label Distribution for the MNIST Dataset')"
            ]
          },
          "metadata": {},
          "execution_count": 33
        },
        {
          "output_type": "display_data",
          "data": {
            "text/plain": [
              "<Figure size 640x480 with 1 Axes>"
            ],
            "image/png": "[encoded data removed]"
          },
          "metadata": {}
        }
      ]
    },
    {
      "cell_type": "markdown",
      "source": [
        "Now, we can take a look at some of the dataset images:"
      ],
      "metadata": {
        "id": "Xg4xVnbC7ubu"
      }
    },
    {
      "cell_type": "code",
      "source": [
        "def visualise_n_random_samples(train_dataset_, n: int, verbose: bool = True):\n",
        "  # Take n-examples at random\n",
        "  idx = list(range(len(train_dataset_.data)))\n",
        "  random.shuffle(idx)\n",
        "  idx=idx[:n]\n",
        "  verbose=False # This will stop the indices being printed\n",
        "  if verbose:\n",
        "    print(f\"will display the images with the index: {idx}\")\n",
        "\n",
        "  # Construct canvas:\n",
        "  num_cols = 8\n",
        "  num_rows = int(np.ceil(len(idx)/num_cols))\n",
        "  fig,axs = plt.subplots(figsize=(16, num_rows*2), nrows=num_rows, ncols=num_cols)\n",
        "\n",
        "  # display images on the created canvas:\n",
        "  for c_i, i in enumerate(idx):\n",
        "    axs.flat[c_i].imshow(train_dataset_.data[i], cmap=\"gray\")"
      ],
      "metadata": {
        "id": "zHxVkCPw7yXZ"
      },
      "execution_count": 34,
      "outputs": []
    },
    {
      "cell_type": "code",
      "source": [
        "visualise_n_random_samples(train_dataset, n=32)"
      ],
      "metadata": {
        "colab": {
          "base_uri": "https://localhost:8080/",
          "height": 677
        },
        "id": "83LdqrGKAemU",
        "outputId": "b7fd7cef-54c1-477f-db9d-80b73a6002b2"
      },
      "execution_count": 35,
      "outputs": [
        {
          "output_type": "display_data",
          "data": {
            "text/plain": [
              "<Figure size 1600x800 with 32 Axes>"
            ],
            "image/png": "[encoded data removed]"
          },
          "metadata": {}
        }
      ]
    },
    {
      "cell_type": "markdown",
      "source": [
        "Now we will look at a simple CNN:"
      ],
      "metadata": {
        "id": "kh9g4JvBBjNq"
      }
    },
    {
      "cell_type": "code",
      "source": [
        "class Net(nn.Module):\n",
        "    def __init__(self, num_classes: int) -> None:\n",
        "        super(Net, self).__init__()\n",
        "        self.conv1 = nn.Conv2d(1, 6, 5)\n",
        "        self.pool = nn.MaxPool2d(2, 2)\n",
        "        self.conv2 = nn.Conv2d(6, 16, 5)\n",
        "        self.fc1 = nn.Linear(16 * 4 * 4, 120)\n",
        "        self.fc2 = nn.Linear(120, 84)\n",
        "        self.fc3 = nn.Linear(84, num_classes)\n",
        "\n",
        "    def forward(self, x: torch.Tensor) -> torch.Tensor:\n",
        "        x = self.pool(F.relu(self.conv1(x)))\n",
        "        x = self.pool(F.relu(self.conv2(x)))\n",
        "        x = x.view(-1, 16 * 4 * 4)\n",
        "        x = F.relu(self.fc1(x))\n",
        "        x = F.relu(self.fc2(x))\n",
        "        x = self.fc3(x)\n",
        "        return x"
      ],
      "metadata": {
        "id": "SHD4SNp_Bmyr"
      },
      "execution_count": 36,
      "outputs": []
    },
    {
      "cell_type": "markdown",
      "source": [
        "We can inspect the model, for example, we can print the number of parameters:"
      ],
      "metadata": {
        "id": "pYhDJnZ2I1sZ"
      }
    },
    {
      "cell_type": "code",
      "source": [
        "model = Net(num_classes=10)\n",
        "num_parameters = sum(value.numel() for value in model.state_dict().values())\n",
        "print(f\"{num_parameters = }\")"
      ],
      "metadata": {
        "colab": {
          "base_uri": "https://localhost:8080/"
        },
        "id": "E-bj7t61I6fF",
        "outputId": "e6f37d75-8516-4ab2-cdee-a0e6b9959f5c"
      },
      "execution_count": 37,
      "outputs": [
        {
          "output_type": "stream",
          "name": "stdout",
          "text": [
            "num_parameters = 44426\n"
          ]
        }
      ]
    },
    {
      "cell_type": "markdown",
      "source": [
        "Now for the training. A minimal training loop in PyTorch can be constructed with three functions:\n",
        "- `train()`: this will train the model given a dataloader\n",
        "- `test()`: this will  be used to evaluate the performance of the model on held-out data, e.g., training set\n",
        "- `run_centralised()`: this will define additional elements (e.g., the optmiser) and run the training loop over N epochs\n",
        "\n",
        "We can construct these as follows:"
      ],
      "metadata": {
        "id": "afvWtbR_JxpK"
      }
    },
    {
      "cell_type": "code",
      "source": [
        "def train(net, trainloader, optimizer, epochs):\n",
        "    \"\"\"Train the network on the training set.\"\"\"\n",
        "    criterion = torch.nn.CrossEntropyLoss()\n",
        "    net.train()\n",
        "    for _ in range(epochs):\n",
        "        for images, labels in trainloader:\n",
        "            optimizer.zero_grad()\n",
        "            loss = criterion(net(images), labels)\n",
        "            loss.backward()\n",
        "            optimizer.step()\n",
        "    return net\n",
        "\n",
        "\n",
        "def test(net, testloader):\n",
        "    \"\"\"Validate the network on the entire test set.\"\"\"\n",
        "    criterion = torch.nn.CrossEntropyLoss()\n",
        "    correct, loss = 0, 0.0\n",
        "    net.eval()\n",
        "    with torch.no_grad():\n",
        "        for images, labels in testloader:\n",
        "            outputs = net(images)\n",
        "            loss += criterion(outputs, labels).item()\n",
        "            _, predicted = torch.max(outputs.data, 1)\n",
        "            correct += (predicted == labels).sum().item()\n",
        "    accuracy = correct / len(testloader.dataset)\n",
        "    return loss, accuracy\n",
        "\n",
        "\n",
        "def run_centralised(epochs: int, lr: float, momentum: float = 0.9):\n",
        "    \"\"\"A minimal (but complete) training loop\"\"\"\n",
        "\n",
        "    # instantiate the model\n",
        "    model = Net(num_classes=10)\n",
        "\n",
        "    # define optimiser with hyperparameters supplied\n",
        "    optim = torch.optim.SGD(model.parameters(), lr=lr, momentum=momentum)\n",
        "\n",
        "    # get dataset and construct a dataloaders\n",
        "    trainset, testset = get_mnist_dataset()\n",
        "    trainloader = DataLoader(trainset, batch_size=64, shuffle=True, num_workers=2)\n",
        "    testloader = DataLoader(testset, batch_size=128)\n",
        "\n",
        "    # train for the specified number of epochs\n",
        "    trained_model = train(model, trainloader, optim, epochs)\n",
        "\n",
        "    # training is completed, then evaluate model on the test set\n",
        "    loss, accuracy = test(trained_model, testloader)\n",
        "    print(f\"{loss = }\")\n",
        "    print(f\"{accuracy = }\")"
      ],
      "metadata": {
        "id": "uHwFDxPtK8es"
      },
      "execution_count": 38,
      "outputs": []
    },
    {
      "cell_type": "markdown",
      "source": [
        "Now we can run for a small number of epochs:"
      ],
      "metadata": {
        "id": "3NO1XO1_Rw6l"
      }
    },
    {
      "cell_type": "code",
      "source": [
        "run_centralised(epochs=5, lr=0.01)"
      ],
      "metadata": {
        "colab": {
          "base_uri": "https://localhost:8080/"
        },
        "id": "QIMVVQakR07i",
        "outputId": "2f2a6110-5081-4cd6-e893-fbfb37a90d57"
      },
      "execution_count": 39,
      "outputs": [
        {
          "output_type": "stream",
          "name": "stderr",
          "text": [
            "/usr/lib/python3.10/multiprocessing/popen_fork.py:66: RuntimeWarning: os.fork() was called. os.fork() is incompatible with multithreaded code, and JAX is multithreaded, so this will likely lead to a deadlock.\n",
            "  self.pid = os.fork()\n"
          ]
        },
        {
          "output_type": "stream",
          "name": "stdout",
          "text": [
            "loss = 3.3012596965563716\n",
            "accuracy = 0.9868\n"
          ]
        }
      ]
    },
    {
      "cell_type": "markdown",
      "source": [
        "# Federated Learning\n",
        "\n",
        "To start desigbing a FL pipeline we need to meey one of the key properties in FL: each client has its own data partition. To do this with the MNIST dataset, we are going to generate N random partitions, were N is the number of clients in our FL system."
      ],
      "metadata": {
        "id": "TnUjfY77RQjl"
      }
    },
    {
      "cell_type": "code",
      "source": [
        "from torch.utils.data import random_split\n",
        "\n",
        "def prepare_dataset(num_partitions: int, batch_size: int, val_ratio: float = 0.1):\n",
        "    \"\"\"This function partitions the training set into N disjoint\n",
        "    subsets, each will become the local dataset of a client. This\n",
        "    function also subsequently partitions each traininset partition\n",
        "    into train and validation. The test set is left intact and will\n",
        "    be used by the central server to asses the performance of the\n",
        "    global model.\"\"\"\n",
        "\n",
        "    # get the MNIST dataset\n",
        "    trainset, testset = get_mnist_dataset()\n",
        "\n",
        "    # split trainset into `num_partitions` trainsets\n",
        "    num_images = len(trainset) // num_partitions\n",
        "\n",
        "    partition_len = [num_images] * num_partitions\n",
        "\n",
        "    trainsets = random_split(\n",
        "        trainset, partition_len, torch.Generator().manual_seed(42)\n",
        "    )\n",
        "\n",
        "    # create dataloaders with train+val support\n",
        "    trainloaders = []\n",
        "    valloaders = []\n",
        "    for trainset_ in trainsets:\n",
        "        num_total = len(trainset_)\n",
        "        num_val = int(val_ratio * num_total)\n",
        "        num_train = num_total - num_val\n",
        "\n",
        "        for_train, for_val = random_split(\n",
        "            trainset_, [num_train, num_val], torch.Generator().manual_seed(42)\n",
        "        )\n",
        "\n",
        "        trainloaders.append(\n",
        "            DataLoader(for_train, batch_size=batch_size, shuffle=True, num_workers=2)\n",
        "        )\n",
        "        valloaders.append(\n",
        "            DataLoader(for_val, batch_size=batch_size, shuffle=False, num_workers=2)\n",
        "        )\n",
        "\n",
        "    # create dataloader for the test set\n",
        "    testloader = DataLoader(testset, batch_size=128)\n",
        "\n",
        "    return trainloaders, valloaders, testloader"
      ],
      "metadata": {
        "id": "QLovdEhCTe0P"
      },
      "execution_count": 40,
      "outputs": []
    },
    {
      "cell_type": "markdown",
      "source": [
        "Now I will create 100 partitions and extract some statistics from one partition."
      ],
      "metadata": {
        "id": "G6a-X9FlGPnM"
      }
    },
    {
      "cell_type": "code",
      "source": [
        "trainloaders, valloaders, testloader = prepare_dataset(\n",
        "    num_partitions=100, batch_size=32\n",
        ")\n",
        "\n",
        "# first partition\n",
        "train_partition = trainloaders[1].dataset\n",
        "\n",
        "# count data points\n",
        "partition_indices = train_partition.indices\n",
        "print(f\"number of images: {len(partition_indices)}\")\n",
        "\n",
        "# visualise histogram\n",
        "plt.hist(train_partition.dataset.dataset.targets[partition_indices], bins=10)\n",
        "plt.grid()\n",
        "plt.xticks(range(10))\n",
        "plt.xlabel(\"Label\")\n",
        "plt.ylabel(\"Number of images\")\n",
        "plt.title(\"Class labels distribution for MNIST\")"
      ],
      "metadata": {
        "colab": {
          "base_uri": "https://localhost:8080/",
          "height": 509
        },
        "id": "vJs6tL9rGXZ8",
        "outputId": "7ac4dd6a-1a83-4eb1-dda9-2d7ec9610d74"
      },
      "execution_count": 41,
      "outputs": [
        {
          "output_type": "stream",
          "name": "stdout",
          "text": [
            "number of images: 540\n"
          ]
        },
        {
          "output_type": "execute_result",
          "data": {
            "text/plain": [
              "Text(0.5, 1.0, 'Class labels distribution for MNIST')"
            ]
          },
          "metadata": {},
          "execution_count": 41
        },
        {
          "output_type": "display_data",
          "data": {
            "text/plain": [
              "<Figure size 640x480 with 1 Axes>"
            ],
            "image/png": "[encoded data removed]"
          },
          "metadata": {}
        }
      ]
    },
    {
      "cell_type": "markdown",
      "source": [
        "It can be seen that this histogram is different to the one when the whole dataset was examined. Since the MNIST dataset is sampled in a IID fashion, the network will not experience sever data heterogeneity issues."
      ],
      "metadata": {
        "id": "rUHFQJtgU1Rt"
      }
    },
    {
      "cell_type": "markdown",
      "source": [
        "# Defining a Flower Client\n",
        "\n",
        "A clinet in FL can be though as an entity that owns some data and trains a model using that data. A FL network can have many clients - up to hundreds or thousands.\n",
        "\n",
        "A Flower client is a simple python class with 4 distinct methods:\n",
        "\n",
        "- `fit()`: With this method, the client does on-device training for a number of epochs using its own data. At the end, the resulting model is sent back to the server.\n",
        "- `evaluate()`: With this method, the server can evaluate the performance of the global model on the local validation set of a client. THis can be used for instance when there is no centralised dataset on the server for validation/test. Also, this method can be used to assess the degree of personalisation of the model being federated.\n",
        "- `set_parameters()`: This method takes the parameters sent by the server and uses them to initialise the parameters of the local model that is ML framework specific (i.e., TF, PyTorch, etc.).\n",
        "- `get_parameters()`: This extracts the parameters from the local model and transforms them into a losy of NumPy arrays. This ML framework-agnostic representation of the model will be sent to the sever."
      ],
      "metadata": {
        "id": "JYrf4IvOYEW6"
      }
    },
    {
      "cell_type": "code",
      "source": [
        "# Confirm flwr is installed:\n",
        "!pip install flwr"
      ],
      "metadata": {
        "colab": {
          "base_uri": "https://localhost:8080/"
        },
        "id": "JmKMlhDrYnmP",
        "outputId": "4b5d27cc-0b2d-4f85-dec2-66ec8d2917a4"
      },
      "execution_count": 42,
      "outputs": [
        {
          "output_type": "stream",
          "name": "stdout",
          "text": [
            "Requirement already satisfied: flwr in /usr/local/lib/python3.10/dist-packages (1.9.0)\n",
            "Requirement already satisfied: cryptography<43.0.0,>=42.0.4 in /usr/local/lib/python3.10/dist-packages (from flwr) (42.0.8)\n",
            "Requirement already satisfied: grpcio<2.0.0,>=1.60.0 in /usr/local/lib/python3.10/dist-packages (from flwr) (1.64.1)\n",
            "Requirement already satisfied: iterators<0.0.3,>=0.0.2 in /usr/local/lib/python3.10/dist-packages (from flwr) (0.0.2)\n",
            "Requirement already satisfied: numpy<2.0.0,>=1.21.0 in /usr/local/lib/python3.10/dist-packages (from flwr) (1.25.2)\n",
            "Requirement already satisfied: pathspec<0.13.0,>=0.12.1 in /usr/local/lib/python3.10/dist-packages (from flwr) (0.12.1)\n",
            "Requirement already satisfied: protobuf<5.0.0,>=4.25.2 in /usr/local/lib/python3.10/dist-packages (from flwr) (4.25.3)\n",
            "Requirement already satisfied: pycryptodome<4.0.0,>=3.18.0 in /usr/local/lib/python3.10/dist-packages (from flwr) (3.20.0)\n",
            "Requirement already satisfied: tomli<3.0.0,>=2.0.1 in /usr/local/lib/python3.10/dist-packages (from flwr) (2.0.1)\n",
            "Requirement already satisfied: typer[all]<0.10.0,>=0.9.0 in /usr/local/lib/python3.10/dist-packages (from flwr) (0.9.4)\n",
            "Requirement already satisfied: cffi>=1.12 in /usr/local/lib/python3.10/dist-packages (from cryptography<43.0.0,>=42.0.4->flwr) (1.16.0)\n",
            "Requirement already satisfied: click<9.0.0,>=7.1.1 in /usr/local/lib/python3.10/dist-packages (from typer[all]<0.10.0,>=0.9.0->flwr) (8.1.7)\n",
            "Requirement already satisfied: typing-extensions>=3.7.4.3 in /usr/local/lib/python3.10/dist-packages (from typer[all]<0.10.0,>=0.9.0->flwr) (4.12.2)\n",
            "Requirement already satisfied: colorama<0.5.0,>=0.4.3 in /usr/local/lib/python3.10/dist-packages (from typer[all]<0.10.0,>=0.9.0->flwr) (0.4.6)\n",
            "Requirement already satisfied: shellingham<2.0.0,>=1.3.0 in /usr/local/lib/python3.10/dist-packages (from typer[all]<0.10.0,>=0.9.0->flwr) (1.5.4)\n",
            "Requirement already satisfied: rich<14.0.0,>=10.11.0 in /usr/local/lib/python3.10/dist-packages (from typer[all]<0.10.0,>=0.9.0->flwr) (13.7.1)\n",
            "Requirement already satisfied: pycparser in /usr/local/lib/python3.10/dist-packages (from cffi>=1.12->cryptography<43.0.0,>=42.0.4->flwr) (2.22)\n",
            "Requirement already satisfied: markdown-it-py>=2.2.0 in /usr/local/lib/python3.10/dist-packages (from rich<14.0.0,>=10.11.0->typer[all]<0.10.0,>=0.9.0->flwr) (3.0.0)\n",
            "Requirement already satisfied: pygments<3.0.0,>=2.13.0 in /usr/local/lib/python3.10/dist-packages (from rich<14.0.0,>=10.11.0->typer[all]<0.10.0,>=0.9.0->flwr) (2.16.1)\n",
            "Requirement already satisfied: mdurl~=0.1 in /usr/local/lib/python3.10/dist-packages (from markdown-it-py>=2.2.0->rich<14.0.0,>=10.11.0->typer[all]<0.10.0,>=0.9.0->flwr) (0.1.2)\n"
          ]
        }
      ]
    },
    {
      "cell_type": "markdown",
      "source": [
        "We define the client here:"
      ],
      "metadata": {
        "id": "k8_gdGdfO5xi"
      }
    },
    {
      "cell_type": "code",
      "source": [
        "class FlowerClient(fl.client.NumPyClient):\n",
        "  def __init__(self, trainloader, valloader) -> None:\n",
        "    super().__init__()\n",
        "\n",
        "    self.trainloader = trainloader\n",
        "    self.valloader = valloader\n",
        "    self.model = Net(num_classes=10)\n",
        "\n",
        "  def set_parameters(self, parameters):\n",
        "      # With the model parameters received from the server,\n",
        "      # overwrite the uninitialise model in this class with them.\n",
        "\n",
        "      params_dict = zip(self.model.state_dict().keys(), parameters)\n",
        "      state_dict = OrderedDict({k: torch.Tensor(v) for k, v in params_dict})\n",
        "      # now replace the parameters\n",
        "      self.model.load_state_dict(state_dict, strict=True)\n",
        "\n",
        "  def get_parameters(self, config: Dict[str, Scalar]):\n",
        "          \"\"\"Extract all model parameters and convert them to a list of\n",
        "          NumPy arrays. The server doesn't work with PyTorch/TF/etc.\"\"\"\n",
        "          return [val.cpu().numpy() for _, val in self.model.state_dict().items()]\n",
        "\n",
        "  def fit(self, parameters, config):\n",
        "      \"\"\"This method train the model using the parameters sent by the\n",
        "      server on the dataset of this client. At then end, the parameters\n",
        "      of the locally trained model are communicated back to the server\"\"\"\n",
        "\n",
        "      # copy parameters sent by the server into client's local model\n",
        "      self.set_parameters(parameters)\n",
        "\n",
        "      # Define the optimiser: Essentially the same as in the centralised example above\n",
        "      optim = torch.optim.SGD(self.model.parameters(), lr=0.01, momentum=0.9)\n",
        "\n",
        "      # do local training: Essentially the same as in the centralised example above (but now using the client's data instead of the whole dataset)\n",
        "      train(self.model, self.trainloader, optim, epochs=1)\n",
        "\n",
        "      # return the model parameters to the server as well as extra info (number of training examples in this case)\n",
        "      return self.get_parameters({}), len(self.trainloader), {}\n",
        "\n",
        "  def evaluate(self, parameters: NDArrays, config: Dict[str, Scalar]):\n",
        "      \"\"\"Evaluate the model sent by the server on this client's\n",
        "      local validation set. Then return performance metrics.\"\"\"\n",
        "\n",
        "      self.set_parameters(parameters)\n",
        "      loss, accuracy = test(\n",
        "          self.model, self.valloader\n",
        "      )  # <-------------------------- calls the `test` function, just what we did in the centralised setting (but this time using the client's local validation set)\n",
        "      # send statistics back to the server\n",
        "      return float(loss), len(self.valloader), {\"accuracy\": accuracy}\n"
      ],
      "metadata": {
        "id": "AJ15vqC_cHD0"
      },
      "execution_count": 43,
      "outputs": []
    },
    {
      "cell_type": "markdown",
      "source": [
        "In FL, the way clients perform local training makes use of the same principles as more traditional, centralised systems. The difference here is that the data is now much smaller, and it is never \"seen\" by the central server running the FL workload."
      ],
      "metadata": {
        "id": "ikouxG4wSZyn"
      }
    },
    {
      "cell_type": "markdown",
      "source": [
        "We can now define what strategy we want to use, so the updated models sent from the client back to the server at the end of the `fit()` method are aggretaged.\n",
        "\n",
        "# Chosing a Flower Strategy\n",
        "\n",
        "A strategy sits at the core of the FL experiment. It is involve in all stages of a FL pipeline: sampling clients; sending the _global model_ to the clinets so they can do `fit()`; receive the updated models and **aggregate** these to construct a new _global model_; define and execute global or federated evaluation; and more.\n",
        "\n",
        "The Flower framework comes with [many stragegies built-in](https://github.com/adap/flower/tree/main/src/py/flwr/server/strategy) with more coming. For this work, we will use what is probably the most popular strategy: `FedAvg`.\n",
        "\n",
        "The way `FedAvg` works is simple, but performs surprisingly well in practice. It is therefore one good strategy to start out experimentation. `FedAvg`, as the name suggests, comes from a new version of the _global model_ by taking the average of all the models sent bu clients participating in the round.\n",
        "\n",
        "We will see how we can defind `FedAvg` using Flower. We use oc of the callbacks called `evaluate_fn` so we can easily evaluate the state of the global model using a small centralised testset. Note this functionality is user-defined since it requires a choice in terms of ML framework.\n",
        "\n",
        "This being said, centralised evaluation of the global model is only possible if there exists a centralised dataset for validation is not possible, so the only solution is to federate the evaluation of the _global model_. This is the default behaviour in Flower. If you don't specify the `evaluate_fn` argument in your strategy, then, centralised global evaluation won't be performed."
      ],
      "metadata": {
        "id": "UwBhc4f6TvM3"
      }
    },
    {
      "cell_type": "code",
      "source": [
        "def get_evaluate_fn(testloader):\n",
        "    # This is a function that returns a function. The returned\n",
        "    # function (i.e. `evaluate_fn`) will be executed by the strategy\n",
        "    # at the end of each round to evaluate the state of the global\n",
        "    # model.\n",
        "\n",
        "    def evaluate_fn(server_round: int, parameters, config):\n",
        "        # This function is executed by the strategy it will instantiate\n",
        "        # a model and replace its parameters with those from the global model.\n",
        "        # The, the model will be evaluate on the test set (recall this is the\n",
        "        # whole MNIST test set).\"\"\"\n",
        "\n",
        "        model = Net(num_classes=10)\n",
        "\n",
        "        # set parameters to the model\n",
        "        params_dict = zip(model.state_dict().keys(), parameters)\n",
        "        state_dict = OrderedDict({k: torch.Tensor(v) for k, v in params_dict})\n",
        "        model.load_state_dict(state_dict, strict=True)\n",
        "\n",
        "        # call test\n",
        "        loss, accuracy = test(\n",
        "            model, testloader\n",
        "        )  # calls the `test` function, just what we did in the centralised setting\n",
        "        return loss, {\"accuracy\": accuracy}\n",
        "\n",
        "    return evaluate_fn\n",
        "\n",
        "\n",
        "# now we can define the strategy\n",
        "strategy = fl.server.strategy.FedAvg(\n",
        "    fraction_fit=0.1,  # let's sample 10% of the client each round to do local training\n",
        "    fraction_evaluate=0.1,  # after each round, let's sample 20% of the clients to asses how well the global model is doing\n",
        "    min_available_clients=100,  # total number of clients available in the experiment\n",
        "    evaluate_fn=get_evaluate_fn(testloader),\n",
        ")  # a callback to a function that the strategy can execute to evaluate the state of the global model on a centralised dataset"
      ],
      "metadata": {
        "id": "xbpziy3uDzXk"
      },
      "execution_count": 44,
      "outputs": []
    },
    {
      "cell_type": "markdown",
      "source": [
        "So far we have:\n",
        "- created the dataset partitions (one per client)\n",
        "- defined the client class\n",
        "- decided on a strategy to use\n",
        "\n",
        "Now we need one final fucntion: we will create another callback that the Simulation Engine will use in order to span VirtualClients. Here we construct a FlowerClient object, assigning each theor own data partition"
      ],
      "metadata": {
        "id": "nHywT2vGo-Zl"
      }
    },
    {
      "cell_type": "code",
      "source": [
        "def generate_client_fn(trainloaders, valloaders):\n",
        "    def client_fn(cid: str):\n",
        "        \"\"\"Returns a FlowerClient containing the cid-th data partition\"\"\"\n",
        "\n",
        "        return FlowerClient(\n",
        "            trainloader=trainloaders[int(cid)], valloader=valloaders[int(cid)]\n",
        "        ).to_client()\n",
        "\n",
        "    return client_fn\n",
        "\n",
        "\n",
        "client_fn_callback = generate_client_fn(trainloaders, valloaders)"
      ],
      "metadata": {
        "id": "ozt-0JGSD3jH"
      },
      "execution_count": 45,
      "outputs": []
    },
    {
      "cell_type": "markdown",
      "source": [
        "And now we can launch the FL experiment using Flower simulator."
      ],
      "metadata": {
        "id": "jFVYJqjAqqoY"
      }
    },
    {
      "cell_type": "code",
      "source": [
        "!pip install flwr[simulation]"
      ],
      "metadata": {
        "colab": {
          "base_uri": "https://localhost:8080/"
        },
        "id": "Z5HfEPdqD6g_",
        "outputId": "4f7429bb-ed3c-4f22-f60b-4ef3177a6505"
      },
      "execution_count": 46,
      "outputs": [
        {
          "output_type": "stream",
          "name": "stdout",
          "text": [
            "Requirement already satisfied: flwr[simulation] in /usr/local/lib/python3.10/dist-packages (1.9.0)\n",
            "Requirement already satisfied: cryptography<43.0.0,>=42.0.4 in /usr/local/lib/python3.10/dist-packages (from flwr[simulation]) (42.0.8)\n",
            "Requirement already satisfied: grpcio<2.0.0,>=1.60.0 in /usr/local/lib/python3.10/dist-packages (from flwr[simulation]) (1.64.1)\n",
            "Requirement already satisfied: iterators<0.0.3,>=0.0.2 in /usr/local/lib/python3.10/dist-packages (from flwr[simulation]) (0.0.2)\n",
            "Requirement already satisfied: numpy<2.0.0,>=1.21.0 in /usr/local/lib/python3.10/dist-packages (from flwr[simulation]) (1.25.2)\n",
            "Requirement already satisfied: pathspec<0.13.0,>=0.12.1 in /usr/local/lib/python3.10/dist-packages (from flwr[simulation]) (0.12.1)\n",
            "Requirement already satisfied: protobuf<5.0.0,>=4.25.2 in /usr/local/lib/python3.10/dist-packages (from flwr[simulation]) (4.25.3)\n",
            "Requirement already satisfied: pycryptodome<4.0.0,>=3.18.0 in /usr/local/lib/python3.10/dist-packages (from flwr[simulation]) (3.20.0)\n",
            "Requirement already satisfied: tomli<3.0.0,>=2.0.1 in /usr/local/lib/python3.10/dist-packages (from flwr[simulation]) (2.0.1)\n",
            "Requirement already satisfied: typer[all]<0.10.0,>=0.9.0 in /usr/local/lib/python3.10/dist-packages (from flwr[simulation]) (0.9.4)\n",
            "Requirement already satisfied: ray==2.10.0 in /usr/local/lib/python3.10/dist-packages (from flwr[simulation]) (2.10.0)\n",
            "Requirement already satisfied: click>=7.0 in /usr/local/lib/python3.10/dist-packages (from ray==2.10.0->flwr[simulation]) (8.1.7)\n",
            "Requirement already satisfied: filelock in /usr/local/lib/python3.10/dist-packages (from ray==2.10.0->flwr[simulation]) (3.14.0)\n",
            "Requirement already satisfied: jsonschema in /usr/local/lib/python3.10/dist-packages (from ray==2.10.0->flwr[simulation]) (4.19.2)\n",
            "Requirement already satisfied: msgpack<2.0.0,>=1.0.0 in /usr/local/lib/python3.10/dist-packages (from ray==2.10.0->flwr[simulation]) (1.0.8)\n",
            "Requirement already satisfied: packaging in /usr/local/lib/python3.10/dist-packages (from ray==2.10.0->flwr[simulation]) (24.1)\n",
            "Requirement already satisfied: pyyaml in /usr/local/lib/python3.10/dist-packages (from ray==2.10.0->flwr[simulation]) (6.0.1)\n",
            "Requirement already satisfied: aiosignal in /usr/local/lib/python3.10/dist-packages (from ray==2.10.0->flwr[simulation]) (1.3.1)\n",
            "Requirement already satisfied: frozenlist in /usr/local/lib/python3.10/dist-packages (from ray==2.10.0->flwr[simulation]) (1.4.1)\n",
            "Requirement already satisfied: requests in /usr/local/lib/python3.10/dist-packages (from ray==2.10.0->flwr[simulation]) (2.31.0)\n",
            "Requirement already satisfied: cffi>=1.12 in /usr/local/lib/python3.10/dist-packages (from cryptography<43.0.0,>=42.0.4->flwr[simulation]) (1.16.0)\n",
            "Requirement already satisfied: typing-extensions>=3.7.4.3 in /usr/local/lib/python3.10/dist-packages (from typer[all]<0.10.0,>=0.9.0->flwr[simulation]) (4.12.2)\n",
            "Requirement already satisfied: colorama<0.5.0,>=0.4.3 in /usr/local/lib/python3.10/dist-packages (from typer[all]<0.10.0,>=0.9.0->flwr[simulation]) (0.4.6)\n",
            "Requirement already satisfied: shellingham<2.0.0,>=1.3.0 in /usr/local/lib/python3.10/dist-packages (from typer[all]<0.10.0,>=0.9.0->flwr[simulation]) (1.5.4)\n",
            "Requirement already satisfied: rich<14.0.0,>=10.11.0 in /usr/local/lib/python3.10/dist-packages (from typer[all]<0.10.0,>=0.9.0->flwr[simulation]) (13.7.1)\n",
            "Requirement already satisfied: pycparser in /usr/local/lib/python3.10/dist-packages (from cffi>=1.12->cryptography<43.0.0,>=42.0.4->flwr[simulation]) (2.22)\n",
            "Requirement already satisfied: markdown-it-py>=2.2.0 in /usr/local/lib/python3.10/dist-packages (from rich<14.0.0,>=10.11.0->typer[all]<0.10.0,>=0.9.0->flwr[simulation]) (3.0.0)\n",
            "Requirement already satisfied: pygments<3.0.0,>=2.13.0 in /usr/local/lib/python3.10/dist-packages (from rich<14.0.0,>=10.11.0->typer[all]<0.10.0,>=0.9.0->flwr[simulation]) (2.16.1)\n",
            "Requirement already satisfied: attrs>=22.2.0 in /usr/local/lib/python3.10/dist-packages (from jsonschema->ray==2.10.0->flwr[simulation]) (23.2.0)\n",
            "Requirement already satisfied: jsonschema-specifications>=2023.03.6 in /usr/local/lib/python3.10/dist-packages (from jsonschema->ray==2.10.0->flwr[simulation]) (2023.12.1)\n",
            "Requirement already satisfied: referencing>=0.28.4 in /usr/local/lib/python3.10/dist-packages (from jsonschema->ray==2.10.0->flwr[simulation]) (0.35.1)\n",
            "Requirement already satisfied: rpds-py>=0.7.1 in /usr/local/lib/python3.10/dist-packages (from jsonschema->ray==2.10.0->flwr[simulation]) (0.18.1)\n",
            "Requirement already satisfied: charset-normalizer<4,>=2 in /usr/local/lib/python3.10/dist-packages (from requests->ray==2.10.0->flwr[simulation]) (3.3.2)\n",
            "Requirement already satisfied: idna<4,>=2.5 in /usr/local/lib/python3.10/dist-packages (from requests->ray==2.10.0->flwr[simulation]) (3.7)\n",
            "Requirement already satisfied: urllib3<3,>=1.21.1 in /usr/local/lib/python3.10/dist-packages (from requests->ray==2.10.0->flwr[simulation]) (2.0.7)\n",
            "Requirement already satisfied: certifi>=2017.4.17 in /usr/local/lib/python3.10/dist-packages (from requests->ray==2.10.0->flwr[simulation]) (2024.6.2)\n",
            "Requirement already satisfied: mdurl~=0.1 in /usr/local/lib/python3.10/dist-packages (from markdown-it-py>=2.2.0->rich<14.0.0,>=10.11.0->typer[all]<0.10.0,>=0.9.0->flwr[simulation]) (0.1.2)\n"
          ]
        }
      ]
    },
    {
      "cell_type": "code",
      "source": [
        "history = fl.simulation.start_simulation(\n",
        "    client_fn=client_fn_callback,  # a callback to construct a client\n",
        "    num_clients=100,  # total number of clients in the experiment\n",
        "    config=fl.server.ServerConfig(num_rounds=10),  # let's run for 10 rounds\n",
        "    strategy=strategy,  # the strategy that will orchestrate the whole FL pipeline\n",
        ")"
      ],
      "metadata": {
        "colab": {
          "base_uri": "https://localhost:8080/"
        },
        "id": "MQqYMvvwD-zL",
        "outputId": "9dcaddca-8013-4476-b4b2-ff1e8b311241"
      },
      "execution_count": 47,
      "outputs": [
        {
          "output_type": "stream",
          "name": "stderr",
          "text": [
            "\u001b[92mINFO \u001b[0m:      Starting Flower simulation, config: num_rounds=10, no round_timeout\n",
            "/usr/lib/python3.10/subprocess.py:1796: RuntimeWarning: os.fork() was called. os.fork() is incompatible with multithreaded code, and JAX is multithreaded, so this will likely lead to a deadlock.\n",
            "  self.pid = _posixsubprocess.fork_exec(\n",
            "2024-06-16 09:37:52,295\tINFO worker.py:1752 -- Started a local Ray instance.\n",
            "\u001b[92mINFO \u001b[0m:      Flower VCE: Ray initialized with resources: {'object_store_memory': 16980343603.0, 'memory': 33960687207.0, 'node:__internal_head__': 1.0, 'accelerator_type:L4': 1.0, 'node:172.28.0.12': 1.0, 'GPU': 1.0, 'CPU': 12.0}\n",
            "\u001b[92mINFO \u001b[0m:      Optimize your simulation with Flower VCE: https://flower.ai/docs/framework/how-to-run-simulations.html\n",
            "\u001b[92mINFO \u001b[0m:      No `client_resources` specified. Using minimal resources for clients.\n",
            "\u001b[92mINFO \u001b[0m:      Flower VCE: Resources for each Virtual Client: {'num_cpus': 1, 'num_gpus': 0.0}\n",
            "\u001b[92mINFO \u001b[0m:      Flower VCE: Creating VirtualClientEngineActorPool with 12 actors\n",
            "\u001b[92mINFO \u001b[0m:      [INIT]\n",
            "\u001b[92mINFO \u001b[0m:      Requesting initial parameters from one random client\n",
            "\u001b[36m(pid=27582)\u001b[0m 2024-06-16 09:37:54.761745: E external/local_xla/xla/stream_executor/cuda/cuda_dnn.cc:9261] Unable to register cuDNN factory: Attempting to register factory for plugin cuDNN when one has already been registered\n",
            "\u001b[36m(pid=27582)\u001b[0m 2024-06-16 09:37:54.761804: E external/local_xla/xla/stream_executor/cuda/cuda_fft.cc:607] Unable to register cuFFT factory: Attempting to register factory for plugin cuFFT when one has already been registered\n",
            "\u001b[36m(pid=27582)\u001b[0m 2024-06-16 09:37:54.763900: E external/local_xla/xla/stream_executor/cuda/cuda_blas.cc:1515] Unable to register cuBLAS factory: Attempting to register factory for plugin cuBLAS when one has already been registered\n",
            "\u001b[36m(pid=27582)\u001b[0m 2024-06-16 09:37:57.077217: W tensorflow/compiler/tf2tensorrt/utils/py_utils.cc:38] TF-TRT Warning: Could not find TensorRT\n",
            "\u001b[92mINFO \u001b[0m:      Received initial parameters from one random client\n",
            "\u001b[92mINFO \u001b[0m:      Evaluating initial global parameters\n",
            "\u001b[92mINFO \u001b[0m:      initial parameters (loss, other metrics): 182.15624332427979, {'accuracy': 0.1642}\n",
            "\u001b[92mINFO \u001b[0m:      \n",
            "\u001b[92mINFO \u001b[0m:      [ROUND 1]\n",
            "\u001b[92mINFO \u001b[0m:      configure_fit: strategy sampled 10 clients (out of 100)\n",
            "\u001b[36m(ClientAppActor pid=27587)\u001b[0m /usr/lib/python3.10/multiprocessing/popen_fork.py:66: RuntimeWarning: os.fork() was called. os.fork() is incompatible with multithreaded code, and JAX is multithreaded, so this will likely lead to a deadlock.\n",
            "\u001b[36m(ClientAppActor pid=27587)\u001b[0m   self.pid = os.fork()\n",
            "\u001b[36m(pid=27578)\u001b[0m 2024-06-16 09:37:55.398871: E external/local_xla/xla/stream_executor/cuda/cuda_dnn.cc:9261] Unable to register cuDNN factory: Attempting to register factory for plugin cuDNN when one has already been registered\u001b[32m [repeated 11x across cluster]\u001b[0m\n",
            "\u001b[36m(pid=27578)\u001b[0m 2024-06-16 09:37:55.398921: E external/local_xla/xla/stream_executor/cuda/cuda_fft.cc:607] Unable to register cuFFT factory: Attempting to register factory for plugin cuFFT when one has already been registered\u001b[32m [repeated 11x across cluster]\u001b[0m\n",
            "\u001b[36m(pid=27578)\u001b[0m 2024-06-16 09:37:55.400511: E external/local_xla/xla/stream_executor/cuda/cuda_blas.cc:1515] Unable to register cuBLAS factory: Attempting to register factory for plugin cuBLAS when one has already been registered\u001b[32m [repeated 11x across cluster]\u001b[0m\n",
            "\u001b[36m(pid=27575)\u001b[0m 2024-06-16 09:37:58.637769: W tensorflow/compiler/tf2tensorrt/utils/py_utils.cc:38] TF-TRT Warning: Could not find TensorRT\u001b[32m [repeated 11x across cluster]\u001b[0m\n",
            "\u001b[36m(ClientAppActor pid=27578)\u001b[0m /usr/lib/python3.10/multiprocessing/popen_fork.py:66: RuntimeWarning: os.fork() was called. os.fork() is incompatible with multithreaded code, and JAX is multithreaded, so this will likely lead to a deadlock.\u001b[32m [repeated 8x across cluster]\u001b[0m\n",
            "\u001b[36m(ClientAppActor pid=27578)\u001b[0m   self.pid = os.fork()\u001b[32m [repeated 8x across cluster]\u001b[0m\n",
            "\u001b[92mINFO \u001b[0m:      aggregate_fit: received 10 results and 0 failures\n",
            "\u001b[93mWARNING \u001b[0m:   No fit_metrics_aggregation_fn provided\n",
            "\u001b[92mINFO \u001b[0m:      fit progress: (1, 180.70081639289856, {'accuracy': 0.2107}, 7.923452707999786)\n",
            "\u001b[92mINFO \u001b[0m:      configure_evaluate: strategy sampled 10 clients (out of 100)\n",
            "\u001b[92mINFO \u001b[0m:      aggregate_evaluate: received 10 results and 0 failures\n",
            "\u001b[93mWARNING \u001b[0m:   No evaluate_metrics_aggregation_fn provided\n",
            "\u001b[92mINFO \u001b[0m:      \n",
            "\u001b[92mINFO \u001b[0m:      [ROUND 2]\n",
            "\u001b[92mINFO \u001b[0m:      configure_fit: strategy sampled 10 clients (out of 100)\n",
            "\u001b[92mINFO \u001b[0m:      aggregate_fit: received 10 results and 0 failures\n",
            "\u001b[92mINFO \u001b[0m:      fit progress: (2, 178.68747329711914, {'accuracy': 0.3301}, 13.135565247000159)\n",
            "\u001b[92mINFO \u001b[0m:      configure_evaluate: strategy sampled 10 clients (out of 100)\n",
            "\u001b[92mINFO \u001b[0m:      aggregate_evaluate: received 10 results and 0 failures\n",
            "\u001b[92mINFO \u001b[0m:      \n",
            "\u001b[92mINFO \u001b[0m:      [ROUND 3]\n",
            "\u001b[92mINFO \u001b[0m:      configure_fit: strategy sampled 10 clients (out of 100)\n",
            "\u001b[92mINFO \u001b[0m:      aggregate_fit: received 10 results and 0 failures\n",
            "\u001b[92mINFO \u001b[0m:      fit progress: (3, 172.9386692047119, {'accuracy': 0.4476}, 18.093646878000072)\n",
            "\u001b[92mINFO \u001b[0m:      configure_evaluate: strategy sampled 10 clients (out of 100)\n",
            "\u001b[92mINFO \u001b[0m:      aggregate_evaluate: received 10 results and 0 failures\n",
            "\u001b[92mINFO \u001b[0m:      \n",
            "\u001b[92mINFO \u001b[0m:      [ROUND 4]\n",
            "\u001b[92mINFO \u001b[0m:      configure_fit: strategy sampled 10 clients (out of 100)\n",
            "\u001b[92mINFO \u001b[0m:      aggregate_fit: received 10 results and 0 failures\n",
            "\u001b[92mINFO \u001b[0m:      fit progress: (4, 148.9350174665451, {'accuracy': 0.4439}, 23.10500196799967)\n",
            "\u001b[92mINFO \u001b[0m:      configure_evaluate: strategy sampled 10 clients (out of 100)\n",
            "\u001b[92mINFO \u001b[0m:      aggregate_evaluate: received 10 results and 0 failures\n",
            "\u001b[92mINFO \u001b[0m:      \n",
            "\u001b[92mINFO \u001b[0m:      [ROUND 5]\n",
            "\u001b[92mINFO \u001b[0m:      configure_fit: strategy sampled 10 clients (out of 100)\n",
            "\u001b[92mINFO \u001b[0m:      aggregate_fit: received 10 results and 0 failures\n",
            "\u001b[92mINFO \u001b[0m:      fit progress: (5, 95.39301860332489, {'accuracy': 0.6516}, 28.04235409299963)\n",
            "\u001b[92mINFO \u001b[0m:      configure_evaluate: strategy sampled 10 clients (out of 100)\n",
            "\u001b[92mINFO \u001b[0m:      aggregate_evaluate: received 10 results and 0 failures\n",
            "\u001b[92mINFO \u001b[0m:      \n",
            "\u001b[92mINFO \u001b[0m:      [ROUND 6]\n",
            "\u001b[92mINFO \u001b[0m:      configure_fit: strategy sampled 10 clients (out of 100)\n",
            "\u001b[92mINFO \u001b[0m:      aggregate_fit: received 10 results and 0 failures\n",
            "\u001b[92mINFO \u001b[0m:      fit progress: (6, 69.83096647262573, {'accuracy': 0.7325}, 33.00484508499994)\n",
            "\u001b[92mINFO \u001b[0m:      configure_evaluate: strategy sampled 10 clients (out of 100)\n",
            "\u001b[92mINFO \u001b[0m:      aggregate_evaluate: received 10 results and 0 failures\n",
            "\u001b[92mINFO \u001b[0m:      \n",
            "\u001b[92mINFO \u001b[0m:      [ROUND 7]\n",
            "\u001b[92mINFO \u001b[0m:      configure_fit: strategy sampled 10 clients (out of 100)\n",
            "\u001b[92mINFO \u001b[0m:      aggregate_fit: received 10 results and 0 failures\n",
            "\u001b[92mINFO \u001b[0m:      fit progress: (7, 48.94099831581116, {'accuracy': 0.7936}, 37.889217064999684)\n",
            "\u001b[92mINFO \u001b[0m:      configure_evaluate: strategy sampled 10 clients (out of 100)\n",
            "\u001b[92mINFO \u001b[0m:      aggregate_evaluate: received 10 results and 0 failures\n",
            "\u001b[92mINFO \u001b[0m:      \n",
            "\u001b[92mINFO \u001b[0m:      [ROUND 8]\n",
            "\u001b[92mINFO \u001b[0m:      configure_fit: strategy sampled 10 clients (out of 100)\n",
            "\u001b[92mINFO \u001b[0m:      aggregate_fit: received 10 results and 0 failures\n",
            "\u001b[92mINFO \u001b[0m:      fit progress: (8, 41.92020793259144, {'accuracy': 0.8296}, 42.74127468699953)\n",
            "\u001b[92mINFO \u001b[0m:      configure_evaluate: strategy sampled 10 clients (out of 100)\n",
            "\u001b[92mINFO \u001b[0m:      aggregate_evaluate: received 10 results and 0 failures\n",
            "\u001b[92mINFO \u001b[0m:      \n",
            "\u001b[92mINFO \u001b[0m:      [ROUND 9]\n",
            "\u001b[92mINFO \u001b[0m:      configure_fit: strategy sampled 10 clients (out of 100)\n",
            "\u001b[92mINFO \u001b[0m:      aggregate_fit: received 10 results and 0 failures\n",
            "\u001b[92mINFO \u001b[0m:      fit progress: (9, 36.16662599146366, {'accuracy': 0.8505}, 47.7961913930003)\n",
            "\u001b[92mINFO \u001b[0m:      configure_evaluate: strategy sampled 10 clients (out of 100)\n",
            "\u001b[92mINFO \u001b[0m:      aggregate_evaluate: received 10 results and 0 failures\n",
            "\u001b[92mINFO \u001b[0m:      \n",
            "\u001b[92mINFO \u001b[0m:      [ROUND 10]\n",
            "\u001b[92mINFO \u001b[0m:      configure_fit: strategy sampled 10 clients (out of 100)\n",
            "\u001b[92mINFO \u001b[0m:      aggregate_fit: received 10 results and 0 failures\n",
            "\u001b[92mINFO \u001b[0m:      fit progress: (10, 32.26730917394161, {'accuracy': 0.8748}, 52.76301116099967)\n",
            "\u001b[92mINFO \u001b[0m:      configure_evaluate: strategy sampled 10 clients (out of 100)\n",
            "\u001b[92mINFO \u001b[0m:      aggregate_evaluate: received 10 results and 0 failures\n",
            "\u001b[92mINFO \u001b[0m:      \n",
            "\u001b[92mINFO \u001b[0m:      [SUMMARY]\n",
            "\u001b[92mINFO \u001b[0m:      Run finished 10 round(s) in 54.03s\n",
            "\u001b[92mINFO \u001b[0m:      \tHistory (loss, distributed):\n",
            "\u001b[92mINFO \u001b[0m:      \t\tround 1: 4.57600679397583\n",
            "\u001b[92mINFO \u001b[0m:      \t\tround 2: 4.521962833404541\n",
            "\u001b[92mINFO \u001b[0m:      \t\tround 3: 4.367360758781433\n",
            "\u001b[92mINFO \u001b[0m:      \t\tround 4: 3.7476659178733827\n",
            "\u001b[92mINFO \u001b[0m:      \t\tround 5: 2.4088831543922424\n",
            "\u001b[92mINFO \u001b[0m:      \t\tround 6: 1.7689981758594513\n",
            "\u001b[92mINFO \u001b[0m:      \t\tround 7: 1.3891445875167847\n",
            "\u001b[92mINFO \u001b[0m:      \t\tround 8: 1.079459235072136\n",
            "\u001b[92mINFO \u001b[0m:      \t\tround 9: 0.936943307518959\n",
            "\u001b[92mINFO \u001b[0m:      \t\tround 10: 0.8553463503718376\n",
            "\u001b[92mINFO \u001b[0m:      \tHistory (loss, centralized):\n",
            "\u001b[92mINFO \u001b[0m:      \t\tround 0: 182.15624332427979\n",
            "\u001b[92mINFO \u001b[0m:      \t\tround 1: 180.70081639289856\n",
            "\u001b[92mINFO \u001b[0m:      \t\tround 2: 178.68747329711914\n",
            "\u001b[92mINFO \u001b[0m:      \t\tround 3: 172.9386692047119\n",
            "\u001b[92mINFO \u001b[0m:      \t\tround 4: 148.9350174665451\n",
            "\u001b[92mINFO \u001b[0m:      \t\tround 5: 95.39301860332489\n",
            "\u001b[92mINFO \u001b[0m:      \t\tround 6: 69.83096647262573\n",
            "\u001b[92mINFO \u001b[0m:      \t\tround 7: 48.94099831581116\n",
            "\u001b[92mINFO \u001b[0m:      \t\tround 8: 41.92020793259144\n",
            "\u001b[92mINFO \u001b[0m:      \t\tround 9: 36.16662599146366\n",
            "\u001b[92mINFO \u001b[0m:      \t\tround 10: 32.26730917394161\n",
            "\u001b[92mINFO \u001b[0m:      \tHistory (metrics, centralized):\n",
            "\u001b[92mINFO \u001b[0m:      \t{'accuracy': [(0, 0.1642),\n",
            "\u001b[92mINFO \u001b[0m:      \t              (1, 0.2107),\n",
            "\u001b[92mINFO \u001b[0m:      \t              (2, 0.3301),\n",
            "\u001b[92mINFO \u001b[0m:      \t              (3, 0.4476),\n",
            "\u001b[92mINFO \u001b[0m:      \t              (4, 0.4439),\n",
            "\u001b[92mINFO \u001b[0m:      \t              (5, 0.6516),\n",
            "\u001b[92mINFO \u001b[0m:      \t              (6, 0.7325),\n",
            "\u001b[92mINFO \u001b[0m:      \t              (7, 0.7936),\n",
            "\u001b[92mINFO \u001b[0m:      \t              (8, 0.8296),\n",
            "\u001b[92mINFO \u001b[0m:      \t              (9, 0.8505),\n",
            "\u001b[92mINFO \u001b[0m:      \t              (10, 0.8748)]}\n",
            "\u001b[92mINFO \u001b[0m:      \n"
          ]
        }
      ]
    },
    {
      "cell_type": "markdown",
      "source": [
        "Completing 10 rounds should take less than 2 minites on a CPU-only Colab instance.\n",
        "\n",
        "We can use teh returned `Histpry` object to either save the results to disk or do some visualisations (or both, of course). Below you can see how youc an plot the centralised accuracy obtained at the end of each round (including at the very beginning of the experiment for the _global model_. This is what the function `evaluate_fn()` that we passed to the strategy reports.  "
      ],
      "metadata": {
        "id": "tqiUy8vVWIlW"
      }
    },
    {
      "cell_type": "code",
      "source": [
        "print(f\"{history.metrics_centralized = }\")\n",
        "\n",
        "global_accuracy_centralised = history.metrics_centralized[\"accuracy\"]\n",
        "round = [data[0] for data in global_accuracy_centralised]\n",
        "acc = [100.0 * data[1] for data in global_accuracy_centralised]\n",
        "plt.plot(round, acc)\n",
        "plt.grid()\n",
        "plt.ylabel(\"Accuracy (%)\")\n",
        "plt.xlabel(\"Training Round\")\n",
        "plt.title(\"MNIST (IID Data): 100 clients total, 10 clients per round\")"
      ],
      "metadata": {
        "colab": {
          "base_uri": "https://localhost:8080/",
          "height": 566
        },
        "id": "T2kGN9r36zAv",
        "outputId": "6adf5dad-bea2-4666-9994-13c3afa1efe8"
      },
      "execution_count": 48,
      "outputs": [
        {
          "output_type": "stream",
          "name": "stdout",
          "text": [
            "history.metrics_centralized = {'accuracy': [(0, 0.1642), (1, 0.2107), (2, 0.3301), (3, 0.4476), (4, 0.4439), (5, 0.6516), (6, 0.7325), (7, 0.7936), (8, 0.8296), (9, 0.8505), (10, 0.8748)]}\n"
          ]
        },
        {
          "output_type": "stream",
          "name": "stderr",
          "text": [
            "/usr/local/lib/python3.10/dist-packages/ipykernel/ipkernel.py:283: DeprecationWarning: `should_run_async` will not call `transform_cell` automatically in the future. Please pass the result to `transformed_cell` argument and any exception that happen during thetransform in `preprocessing_exc_tuple` in IPython 7.17 and above.\n",
            "  and should_run_async(code)\n"
          ]
        },
        {
          "output_type": "execute_result",
          "data": {
            "text/plain": [
              "Text(0.5, 1.0, 'MNIST (IID Data): 100 clients total, 10 clients per round')"
            ]
          },
          "metadata": {},
          "execution_count": 48
        },
        {
          "output_type": "display_data",
          "data": {
            "text/plain": [
              "<Figure size 640x480 with 1 Axes>"
            ],
            "image/png": "[encoded data removed]"
          },
          "metadata": {}
        }
      ]
    },
    {
      "cell_type": "code",
      "source": [
        "!git status"
      ],
      "metadata": {
        "colab": {
          "base_uri": "https://localhost:8080/"
        },
        "id": "D5klvvNPM7fj",
        "outputId": "dbeaf1c4-e9bf-44c2-98e8-e6b6d337d6af"
      },
      "execution_count": 49,
      "outputs": [
        {
          "output_type": "stream",
          "name": "stdout",
          "text": [
            "fatal: not a git repository (or any of the parent directories): .git\n"
          ]
        },
        {
          "output_type": "stream",
          "name": "stderr",
          "text": [
            "/usr/local/lib/python3.10/dist-packages/ipykernel/ipkernel.py:283: DeprecationWarning: `should_run_async` will not call `transform_cell` automatically in the future. Please pass the result to `transformed_cell` argument and any exception that happen during thetransform in `preprocessing_exc_tuple` in IPython 7.17 and above.\n",
            "  and should_run_async(code)\n"
          ]
        }
      ]
    }
  ]
}